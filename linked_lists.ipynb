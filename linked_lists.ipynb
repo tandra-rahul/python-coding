{
 "cells": [
  {
   "cell_type": "code",
   "execution_count": 1,
   "metadata": {},
   "outputs": [],
   "source": [
    "class ListNode:\n",
    "    \n",
    "    def __init__(self, data, next=None):\n",
    "        self. data = data\n",
    "        self.next = next\n",
    "    \n",
    "    def insert_after(node, new_node):\n",
    "        new_node.next = node.next\n",
    "        node.next = new_node\n",
    "        return\n",
    "    \n",
    "    def delete_after(node):\n",
    "        node.next = node.next.next\n",
    "        return\n",
    "    \n",
    "    def search_list(head, key):\n",
    "        \n",
    "        while head:\n",
    "            if head.data == key:\n",
    "                return head\n",
    "            head = head.next\n",
    "        \n",
    "        return head\n",
    "    "
   ]
  },
  {
   "cell_type": "code",
   "execution_count": 7,
   "metadata": {},
   "outputs": [],
   "source": [
    "def add_two_numbers(L1, L2):\n",
    "    \n",
    "    carry = 0\n",
    "    dummy_head = result = ListNode(0)\n",
    "    \n",
    "    while L1 or L2:\n",
    "        \n",
    "        result.next = ListNode(0)\n",
    "        result = result.next\n",
    "        \n",
    "        if L1:\n",
    "            carry += L1.data\n",
    "            L1 = L1.next\n",
    "        \n",
    "        if L2:\n",
    "            carry += L2.data\n",
    "            L2 = L2.next\n",
    "        \n",
    "        result.data = carry %10\n",
    "        carry = carry // 10\n",
    "    \n",
    "    if carry:\n",
    "        result.next = ListNode(carry)\n",
    "    \n",
    "    return dummy_head.next\n",
    "        "
   ]
  },
  {
   "cell_type": "code",
   "execution_count": 3,
   "metadata": {},
   "outputs": [],
   "source": [
    "l1 = ListNode(3)\n",
    "l2 = ListNode(1)\n",
    "l3 = ListNode(4)\n",
    "l1.next = l2\n",
    "l2.next = l3\n",
    "\n",
    "x1 = ListNode(0)\n",
    "x2 = ListNode(2)\n",
    "x3 = ListNode(8)\n",
    "x4 = ListNode(9)\n",
    "x1.next = x2\n",
    "x2.next = x3\n",
    "x3.next = x4"
   ]
  },
  {
   "cell_type": "code",
   "execution_count": 8,
   "metadata": {},
   "outputs": [],
   "source": [
    "r = add_two_numbers(l1, x1)"
   ]
  },
  {
   "cell_type": "code",
   "execution_count": 10,
   "metadata": {},
   "outputs": [
    {
     "name": "stdout",
     "output_type": "stream",
     "text": [
      "3 3 2 0 1\n"
     ]
    }
   ],
   "source": [
    "print(r.data, r.next.data, r.next.next.data, r.next.next.next.data, r.next.next.next.next.data)"
   ]
  },
  {
   "cell_type": "code",
   "execution_count": 6,
   "metadata": {},
   "outputs": [
    {
     "data": {
      "text/plain": [
       "1"
      ]
     },
     "execution_count": 6,
     "metadata": {},
     "output_type": "execute_result"
    }
   ],
   "source": [
    "12 // 10"
   ]
  },
  {
   "cell_type": "code",
   "execution_count": null,
   "metadata": {},
   "outputs": [],
   "source": [
    "def split_lists(head):\n",
    "    \n",
    "    even_head = prev = head\n",
    "    odd_head = curr = head.next\n",
    "    \n",
    "    while curr:\n",
    "        prev.next = curr.next\n",
    "        prev = curr\n",
    "        curr = curr.next\n",
    "    \n",
    "    return even_head, odd_head\n",
    "    \n",
    "    "
   ]
  },
  {
   "cell_type": "code",
   "execution_count": null,
   "metadata": {},
   "outputs": [],
   "source": [
    "def odd_even_merge(L):\n",
    "    \n",
    "    if (not L) or (not L.next):\n",
    "        return L\n",
    "    \n",
    "    even_head = even = L\n",
    "    odd_head = odd = L.next\n",
    "    \n",
    "    while odd.next:\n",
    "        # Atleast one new node\n",
    "        even.next = odd.next\n",
    "        even = even.next\n",
    "        \n",
    "        if even.next:\n",
    "            odd.next = even.next\n",
    "            odd = odd.next\n",
    "    \n",
    "    even.next = odd_head\n",
    "    odd.next = None\n",
    "    \n",
    "    return even_head"
   ]
  },
  {
   "cell_type": "code",
   "execution_count": null,
   "metadata": {},
   "outputs": [],
   "source": [
    "m1 = ListNode(10)\n",
    "m2 = ListNode(20)\n",
    "m3 = ListNode(30)\n",
    "m4 = ListNode(40)\n",
    "m5 = ListNode(50)\n",
    "m1.next = m2\n",
    "m2.next = m3\n",
    "m3.next = m4\n",
    "m4.next = m5"
   ]
  },
  {
   "cell_type": "code",
   "execution_count": null,
   "metadata": {},
   "outputs": [],
   "source": [
    "x = odd_even_merge(m1)"
   ]
  },
  {
   "cell_type": "code",
   "execution_count": null,
   "metadata": {},
   "outputs": [],
   "source": [
    "even.next.next.next"
   ]
  },
  {
   "cell_type": "code",
   "execution_count": null,
   "metadata": {},
   "outputs": [],
   "source": [
    "odd.data"
   ]
  },
  {
   "cell_type": "code",
   "execution_count": null,
   "metadata": {},
   "outputs": [],
   "source": [
    "odd.next.data"
   ]
  },
  {
   "cell_type": "code",
   "execution_count": null,
   "metadata": {},
   "outputs": [],
   "source": [
    "odd.next.next"
   ]
  },
  {
   "cell_type": "code",
   "execution_count": null,
   "metadata": {},
   "outputs": [],
   "source": [
    "print(m3.next.data)"
   ]
  },
  {
   "cell_type": "code",
   "execution_count": null,
   "metadata": {},
   "outputs": [],
   "source": [
    "print(m5.next)"
   ]
  },
  {
   "cell_type": "code",
   "execution_count": null,
   "metadata": {},
   "outputs": [],
   "source": [
    "if m5.next is None:\n",
    "    print(\"HI\")"
   ]
  },
  {
   "cell_type": "code",
   "execution_count": null,
   "metadata": {},
   "outputs": [],
   "source": [
    "def merge_two_sorted_lists(L1, L2):\n",
    "    head = ListNode(0)\n",
    "    tail = head\n",
    "    \n",
    "    while L1 and L2:\n",
    "        if L1.data <= L2.data:\n",
    "            tail.next = L1\n",
    "            L1 = L1.next\n",
    "        else:\n",
    "            tail.next = L2\n",
    "            L2 = L2.next\n",
    "        \n",
    "        tail = tail.next\n",
    "        \n",
    "    tail.next = L1 or L2\n",
    "\n",
    "    return head.next\n",
    "                \n",
    "        "
   ]
  },
  {
   "cell_type": "code",
   "execution_count": null,
   "metadata": {},
   "outputs": [],
   "source": [
    "def reverse_list(head):\n",
    "    \n",
    "    curr = head\n",
    "    prev = None\n",
    "    \n",
    "    while head:\n",
    "        head = head.next\n",
    "        curr.next = prev\n",
    "        prev = curr\n",
    "        curr = head\n",
    "    \n",
    "    return prev"
   ]
  },
  {
   "cell_type": "code",
   "execution_count": null,
   "metadata": {},
   "outputs": [],
   "source": [
    "x = reverse_list(n1)"
   ]
  },
  {
   "cell_type": "code",
   "execution_count": null,
   "metadata": {},
   "outputs": [],
   "source": [
    "print(x.data,x.next.data,x.next.next.data,x.next.next.next.data,x.next.next.next.next)"
   ]
  },
  {
   "cell_type": "code",
   "execution_count": null,
   "metadata": {},
   "outputs": [],
   "source": [
    "def reverse_sublist(L, start, finish):\n",
    "    \n",
    "    # identify the nodes corresponding to start, finish, start-1 and finish +1\n",
    "    ind = 1\n",
    "    ptr = L\n",
    "    \n",
    "    n0 = ListNode(0)\n",
    "    n1 = ListNode(0)\n",
    "    n2 = ListNode(0)\n",
    "    n3 = ListNode(0)\n",
    "    \n",
    "    if start ==1:\n",
    "        n0 = None\n",
    "        n1 = L\n",
    "        \n",
    "    while ptr:\n",
    "        if ind == start -1:\n",
    "            print(\"HI\", ind)\n",
    "            n0 = ptr\n",
    "            n1 = ptr.next\n",
    "            print(n0.data, n1.data)\n",
    "        elif ind == finish:\n",
    "            n2 = ptr\n",
    "            n3 = ptr.next\n",
    "        \n",
    "        ptr = ptr.next\n",
    "        ind +=1\n",
    "        \n",
    "    \n",
    "    print(n0.data, n1.data, n2.data, n3.data)\n",
    "    curr = n1\n",
    "    prev = n3\n",
    "    nxt = None\n",
    "    \n",
    "    while curr.next != n3:\n",
    "        nxt = curr.next\n",
    "        curr.next = prev\n",
    "        prev = curr\n",
    "        curr = nxt\n",
    "    \n",
    "    n0.next = prev\n",
    "    \n",
    "    return L\n",
    "    \n",
    "            "
   ]
  },
  {
   "cell_type": "code",
   "execution_count": null,
   "metadata": {},
   "outputs": [],
   "source": [
    "y = reverse_sublist(n1, 2,3)"
   ]
  },
  {
   "cell_type": "code",
   "execution_count": null,
   "metadata": {},
   "outputs": [],
   "source": [
    "print(y.next.next.data)"
   ]
  },
  {
   "cell_type": "code",
   "execution_count": null,
   "metadata": {},
   "outputs": [],
   "source": [
    "def cycle_check(head):\n",
    "    \n",
    "    p1 = head\n",
    "    p2 = head.next\n",
    "    \n",
    "    while p1 and p2:\n",
    "        if p1 == p2:\n",
    "            return True\n",
    "        \n",
    "        p1 = p1.next\n",
    "        if p2.next == None:\n",
    "            break\n",
    "        p2 = p2.next.next\n",
    "    \n",
    "    return False\n",
    "            "
   ]
  },
  {
   "cell_type": "code",
   "execution_count": null,
   "metadata": {},
   "outputs": [],
   "source": [
    "y1 = ListNode(2)\n",
    "y2 = ListNode(5)\n",
    "y3 = ListNode(7)\n",
    "y4 = ListNode(9)\n",
    "y1.next = y2\n",
    "y2.next = y3\n",
    "y3.next = y4\n",
    "y4.next = y1\n"
   ]
  },
  {
   "cell_type": "code",
   "execution_count": null,
   "metadata": {},
   "outputs": [],
   "source": [
    "cycle_check(y1)"
   ]
  },
  {
   "cell_type": "code",
   "execution_count": null,
   "metadata": {},
   "outputs": [],
   "source": [
    "def overlapping_no_cycle_lists(l0, l1):\n",
    "    \n",
    "    # finding tail of first list\n",
    "    n0,t0 = find_tail(l0)\n",
    "    n1,t1 = find_tail(l1)\n",
    "    \n",
    "    if t0 is t1:\n",
    "        # Lists intersect\n",
    "        if n0 > n1:\n",
    "            p0 = advance_ahead(l0, n0 -n1)\n",
    "            p1 = l1\n",
    "        elif n1 > n0:\n",
    "            p0 = l0\n",
    "            p1 = advance_ahead(l1, n1 - n0)\n",
    "        else:\n",
    "            p0 = l0\n",
    "            p1 = l1\n",
    "        \n",
    "        while p0 is not p1:\n",
    "            p0 = p0.next\n",
    "            p1 = p1.next\n",
    "        \n",
    "        return p0\n",
    "    \n",
    "    else:\n",
    "        return False\n",
    "\n",
    "def find_tail(head):\n",
    "    n = 1\n",
    "    \n",
    "    # finding tail of first list\n",
    "    while head.next:\n",
    "        n += 1\n",
    "        head = head.next\n",
    "    \n",
    "    return n,head\n",
    "\n",
    "    \n",
    "def advance_ahead(head, n):\n",
    "    \n",
    "    for i in range(n):\n",
    "        head = head.next\n",
    "    \n",
    "    return head\n",
    "    \n",
    "    \n",
    "                \n",
    "        \n",
    "        "
   ]
  },
  {
   "cell_type": "code",
   "execution_count": null,
   "metadata": {},
   "outputs": [],
   "source": [
    "n1 = ListNode(10)\n",
    "n2 = ListNode(20)\n",
    "p3 = ListNode(30)\n",
    "p4 = ListNode(40)\n",
    "p5 = ListNode(50)\n",
    "p1 = ListNode(1)\n",
    "p2 = ListNode(2)\n",
    "n1.next = n2\n",
    "n2.next = p3\n",
    "p3.next = p4\n",
    "p4.next = p5\n",
    "p1.next = p2\n",
    "p2.next = p3"
   ]
  },
  {
   "cell_type": "code",
   "execution_count": null,
   "metadata": {},
   "outputs": [],
   "source": [
    "aa= overlapping_no_cycle_lists(n1, p1)"
   ]
  },
  {
   "cell_type": "code",
   "execution_count": null,
   "metadata": {},
   "outputs": [],
   "source": [
    "print(aa.next.data)"
   ]
  },
  {
   "cell_type": "code",
   "execution_count": null,
   "metadata": {},
   "outputs": [],
   "source": [
    "xx = ListNode(10)"
   ]
  },
  {
   "cell_type": "code",
   "execution_count": null,
   "metadata": {},
   "outputs": [],
   "source": [
    "while xx:\n",
    "    print(\"HI\")\n",
    "    xx = xx.next"
   ]
  },
  {
   "cell_type": "code",
   "execution_count": null,
   "metadata": {},
   "outputs": [],
   "source": [
    "a,b = find_tail(n1)"
   ]
  },
  {
   "cell_type": "code",
   "execution_count": null,
   "metadata": {},
   "outputs": [],
   "source": [
    "a"
   ]
  },
  {
   "cell_type": "code",
   "execution_count": null,
   "metadata": {},
   "outputs": [],
   "source": [
    "b.data"
   ]
  },
  {
   "cell_type": "code",
   "execution_count": null,
   "metadata": {},
   "outputs": [],
   "source": [
    "def remove_kth_last(L, k):\n",
    "    \n",
    "    first = second = L\n",
    "    \n",
    "    for i in range(k -1):\n",
    "        first = first.next\n",
    "    \n",
    "    while first.next:\n",
    "        first = first.next\n",
    "        second = second.next\n",
    "    \n",
    "    second.data = second.next.data\n",
    "    second.next = second.next.next\n",
    "    \n",
    "    return L\n",
    "    \n",
    "    \n",
    "    "
   ]
  }
 ],
 "metadata": {
  "kernelspec": {
   "display_name": "Python 3",
   "language": "python",
   "name": "python3"
  },
  "language_info": {
   "codemirror_mode": {
    "name": "ipython",
    "version": 3
   },
   "file_extension": ".py",
   "mimetype": "text/x-python",
   "name": "python",
   "nbconvert_exporter": "python",
   "pygments_lexer": "ipython3",
   "version": "3.7.4"
  }
 },
 "nbformat": 4,
 "nbformat_minor": 2
}
