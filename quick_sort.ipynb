{
 "cells": [
  {
   "cell_type": "code",
   "execution_count": 1,
   "metadata": {},
   "outputs": [],
   "source": [
    "def partition(A, l, r):\n",
    "    # l is the left index\n",
    "    # r is the right index\n",
    "    # A is the list\n",
    "    # Assume elements are distinct\n",
    "    \n",
    "    p = A[l]\n",
    "    pidx = l+1\n",
    "    for j in range(l+1, r+1):\n",
    "        if A[j] < p:\n",
    "            temp = A[pidx]\n",
    "            A[pidx] = A[j]\n",
    "            A[j] = temp\n",
    "            pidx += 1\n",
    "    \n",
    "    # Swap back with pivot element\n",
    "    A[l] = A[pidx -1]\n",
    "    A[pidx -1] = p\n",
    "    #print(\"HI\",pidx)\n",
    "    return pidx-1"
   ]
  },
  {
   "cell_type": "code",
   "execution_count": 5,
   "metadata": {},
   "outputs": [],
   "source": [
    "def quick_sort(A,l , r):\n",
    "    print(A, l, r)\n",
    "    if r -l ==0:\n",
    "        return\n",
    "    \n",
    "    pidx = partition(A, l, r)\n",
    "    print(\"Pivot index =\", pidx)\n",
    "    \n",
    "    if pidx == l:\n",
    "        quick_sort(A, pidx+1, r)\n",
    "    elif pidx == r:\n",
    "        quick_sort(A,l,pidx-1)\n",
    "    else:\n",
    "        quick_sort(A,l, pidx-1)\n",
    "        quick_sort(A,pidx+1, r)\n",
    "    return \n",
    "    \n",
    "    "
   ]
  },
  {
   "cell_type": "code",
   "execution_count": 6,
   "metadata": {},
   "outputs": [],
   "source": [
    "A= [ 3,8,2,5,1,4,7,6]"
   ]
  },
  {
   "cell_type": "code",
   "execution_count": 7,
   "metadata": {},
   "outputs": [
    {
     "name": "stdout",
     "output_type": "stream",
     "text": [
      "[3, 8, 2, 5, 1, 4, 7, 6] 0 7\n",
      "Pivot index = 2\n",
      "[1, 2, 3, 5, 8, 4, 7, 6] 0 1\n",
      "Pivot index = 0\n",
      "[1, 2, 3, 5, 8, 4, 7, 6] 1 1\n",
      "[1, 2, 3, 5, 8, 4, 7, 6] 3 7\n",
      "Pivot index = 4\n",
      "[1, 2, 3, 4, 5, 8, 7, 6] 3 3\n",
      "[1, 2, 3, 4, 5, 8, 7, 6] 5 7\n",
      "Pivot index = 7\n",
      "[1, 2, 3, 4, 5, 6, 7, 8] 5 6\n",
      "Pivot index = 5\n",
      "[1, 2, 3, 4, 5, 6, 7, 8] 6 6\n"
     ]
    }
   ],
   "source": [
    "quick_sort(A,0,7)"
   ]
  },
  {
   "cell_type": "code",
   "execution_count": 8,
   "metadata": {},
   "outputs": [],
   "source": [
    "import random"
   ]
  },
  {
   "cell_type": "code",
   "execution_count": 23,
   "metadata": {},
   "outputs": [
    {
     "name": "stdout",
     "output_type": "stream",
     "text": [
      "[4, 1, 10, 7, 3, 5, 6, 8, 1, 4, 6, 6, 1, 8, 0] 0 14\n",
      "Pivot index = 5\n",
      "[0, 1, 3, 1, 1, 4, 6, 8, 7, 4, 6, 6, 10, 8, 5] 0 4\n",
      "Pivot index = 0\n",
      "[0, 1, 3, 1, 1, 4, 6, 8, 7, 4, 6, 6, 10, 8, 5] 1 4\n",
      "Pivot index = 1\n",
      "[0, 1, 3, 1, 1, 4, 6, 8, 7, 4, 6, 6, 10, 8, 5] 2 4\n",
      "Pivot index = 4\n",
      "[0, 1, 1, 1, 3, 4, 6, 8, 7, 4, 6, 6, 10, 8, 5] 2 3\n",
      "Pivot index = 2\n",
      "[0, 1, 1, 1, 3, 4, 6, 8, 7, 4, 6, 6, 10, 8, 5] 3 3\n",
      "[0, 1, 1, 1, 3, 4, 6, 8, 7, 4, 6, 6, 10, 8, 5] 6 14\n",
      "Pivot index = 8\n",
      "[0, 1, 1, 1, 3, 4, 5, 4, 6, 8, 6, 6, 10, 8, 7] 6 7\n",
      "Pivot index = 7\n",
      "[0, 1, 1, 1, 3, 4, 4, 5, 6, 8, 6, 6, 10, 8, 7] 6 6\n",
      "[0, 1, 1, 1, 3, 4, 4, 5, 6, 8, 6, 6, 10, 8, 7] 9 14\n",
      "Pivot index = 12\n",
      "[0, 1, 1, 1, 3, 4, 4, 5, 6, 7, 6, 6, 8, 8, 10] 9 11\n",
      "Pivot index = 11\n",
      "[0, 1, 1, 1, 3, 4, 4, 5, 6, 6, 6, 7, 8, 8, 10] 9 10\n",
      "Pivot index = 9\n",
      "[0, 1, 1, 1, 3, 4, 4, 5, 6, 6, 6, 7, 8, 8, 10] 10 10\n",
      "[0, 1, 1, 1, 3, 4, 4, 5, 6, 6, 6, 7, 8, 8, 10] 13 14\n",
      "Pivot index = 13\n",
      "[0, 1, 1, 1, 3, 4, 4, 5, 6, 6, 6, 7, 8, 8, 10] 14 14\n"
     ]
    }
   ],
   "source": [
    "A=[]\n",
    "for i in range(0,15):\n",
    "    A.append(random.randint(0,10))\n",
    "\n",
    "quick_sort(A, 0, len(A)-1)\n"
   ]
  },
  {
   "cell_type": "code",
   "execution_count": 18,
   "metadata": {},
   "outputs": [
    {
     "data": {
      "text/plain": [
       "[1, 1, 2, 2, 2, 4, 4, 5, 6, 7, 7, 7, 7, 7, 10]"
      ]
     },
     "execution_count": 18,
     "metadata": {},
     "output_type": "execute_result"
    }
   ],
   "source": [
    "A"
   ]
  },
  {
   "cell_type": "code",
   "execution_count": 101,
   "metadata": {},
   "outputs": [],
   "source": [
    "def dutch_flag(pivot_index, A):\n",
    "    if len(A) == 1:\n",
    "        return\n",
    "    \n",
    "    swap(A, 0, pivot_index)\n",
    "    \n",
    "    pend = 1\n",
    "    i = 1\n",
    "    for j in range(1, len(A)):\n",
    "        if A[j] < A[0]:\n",
    "            swap(A, i, j)\n",
    "            i += 1\n",
    "        \n",
    "        if A[j] == A[0]:\n",
    "            swap(A, i, j)\n",
    "            swap(A, pend, i)\n",
    "            pend += 1\n",
    "            i +=1\n",
    "    \n",
    "    for k in range(0, pend):\n",
    "        swap(A, k, i-1-k)\n",
    "\n",
    "    return i-1, pend-1\n",
    "\n",
    "def swap(A, i, j):\n",
    "    temp = A[i]\n",
    "    A[i] = A[j]\n",
    "    A[j] = temp\n",
    "    "
   ]
  },
  {
   "cell_type": "code",
   "execution_count": 108,
   "metadata": {},
   "outputs": [],
   "source": [
    "X=[1, 0, 1, 2, 0, 0, 1, 0, 1, 2, 0, 0, 2, 2, 1, 0, 2, 0, 1, 1, 1]"
   ]
  },
  {
   "cell_type": "code",
   "execution_count": 109,
   "metadata": {},
   "outputs": [
    {
     "data": {
      "text/plain": [
       "(20, 4)"
      ]
     },
     "execution_count": 109,
     "metadata": {},
     "output_type": "execute_result"
    }
   ],
   "source": [
    "dutch_flag(3,X)"
   ]
  },
  {
   "cell_type": "code",
   "execution_count": 110,
   "metadata": {},
   "outputs": [
    {
     "data": {
      "text/plain": [
       "[1, 1, 1, 0, 0, 0, 1, 0, 1, 0, 0, 0, 1, 1, 1, 0, 2, 2, 2, 2, 2]"
      ]
     },
     "execution_count": 110,
     "metadata": {},
     "output_type": "execute_result"
    }
   ],
   "source": [
    "X"
   ]
  },
  {
   "cell_type": "code",
   "execution_count": 111,
   "metadata": {},
   "outputs": [],
   "source": [
    "Y=[False, False, True, True, False, False]"
   ]
  },
  {
   "cell_type": "code",
   "execution_count": 112,
   "metadata": {},
   "outputs": [
    {
     "data": {
      "text/plain": [
       "(5, 1)"
      ]
     },
     "execution_count": 112,
     "metadata": {},
     "output_type": "execute_result"
    }
   ],
   "source": [
    "dutch_flag(2,Y)"
   ]
  },
  {
   "cell_type": "code",
   "execution_count": 113,
   "metadata": {},
   "outputs": [
    {
     "data": {
      "text/plain": [
       "[False, False, False, False, True, True]"
      ]
     },
     "execution_count": 113,
     "metadata": {},
     "output_type": "execute_result"
    }
   ],
   "source": [
    "Y"
   ]
  },
  {
   "cell_type": "code",
   "execution_count": null,
   "metadata": {},
   "outputs": [],
   "source": []
  }
 ],
 "metadata": {
  "kernelspec": {
   "display_name": "Python 3",
   "language": "python",
   "name": "python3"
  },
  "language_info": {
   "codemirror_mode": {
    "name": "ipython",
    "version": 3
   },
   "file_extension": ".py",
   "mimetype": "text/x-python",
   "name": "python",
   "nbconvert_exporter": "python",
   "pygments_lexer": "ipython3",
   "version": "3.7.4"
  }
 },
 "nbformat": 4,
 "nbformat_minor": 2
}
