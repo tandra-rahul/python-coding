{
 "cells": [
  {
   "cell_type": "code",
   "execution_count": 11,
   "metadata": {},
   "outputs": [],
   "source": [
    "def find_intersection(a, b):\n",
    "    \n",
    "    result = []\n",
    "    l = r = 0\n",
    "    \n",
    "    while l < len(a) and r < len(b):\n",
    "        \n",
    "        if a[l] < b[r]:\n",
    "            l +=1\n",
    "        elif a[l] > b[r]:\n",
    "            r +=1\n",
    "        else:\n",
    "            x =a[l]\n",
    "            result.append(x)\n",
    "            while l < len(a) :\n",
    "                if a[l] != x:\n",
    "                    break\n",
    "                l += 1\n",
    "            while r < len(b):\n",
    "                if b[r] != x:\n",
    "                    break\n",
    "                r += 1\n",
    "            \n",
    "    return result\n",
    "            \n",
    "            \n",
    "                \n",
    "           "
   ]
  },
  {
   "cell_type": "code",
   "execution_count": 14,
   "metadata": {},
   "outputs": [],
   "source": [
    "a =[4,6,7,7,9]\n",
    "b =[7,7,9,10,12]"
   ]
  },
  {
   "cell_type": "code",
   "execution_count": 15,
   "metadata": {},
   "outputs": [
    {
     "data": {
      "text/plain": [
       "[7, 9]"
      ]
     },
     "execution_count": 15,
     "metadata": {},
     "output_type": "execute_result"
    }
   ],
   "source": [
    "find_intersection(a, b)"
   ]
  },
  {
   "cell_type": "code",
   "execution_count": 27,
   "metadata": {},
   "outputs": [],
   "source": [
    "def h_index(citations):\n",
    "    \n",
    "    citations.sort(reverse=True)\n",
    "    ind = 0\n",
    "    while ind < len(citations):\n",
    "        if citations[ind] <  ind+1:\n",
    "            break\n",
    "        ind +=1\n",
    "    \n",
    "    return ind\n",
    "        \n",
    "    "
   ]
  },
  {
   "cell_type": "code",
   "execution_count": 30,
   "metadata": {},
   "outputs": [],
   "source": [
    "a=[0]"
   ]
  },
  {
   "cell_type": "code",
   "execution_count": 31,
   "metadata": {},
   "outputs": [
    {
     "data": {
      "text/plain": [
       "0"
      ]
     },
     "execution_count": 31,
     "metadata": {},
     "output_type": "execute_result"
    }
   ],
   "source": [
    "h_index(a)"
   ]
  },
  {
   "cell_type": "code",
   "execution_count": 33,
   "metadata": {},
   "outputs": [],
   "source": [
    "import collections\n",
    "Event = collections.namedtuple('Event', ('start', 'finish'))"
   ]
  },
  {
   "cell_type": "code",
   "execution_count": 58,
   "metadata": {},
   "outputs": [],
   "source": [
    "import bisect\n",
    "def find_max_simultaneous_events(A):\n",
    "    s = [event[0] for event in A]\n",
    "    s.sort()\n",
    "    print(s)\n",
    "    \n",
    "    max_count = 0\n",
    "    for event in A:\n",
    "        print(\"Event\", event)\n",
    "        n1 = bisect.bisect_right(s, event[1])\n",
    "        n2 = bisect.bisect_left(s, event[0])\n",
    "        \n",
    "        print(\"Number of overlapping sessions with current session\", n1 - n2)\n",
    "        max_count = max(n1-n2, max_count)\n",
    "    \n",
    "    return max_count\n",
    "        "
   ]
  },
  {
   "cell_type": "code",
   "execution_count": 59,
   "metadata": {},
   "outputs": [],
   "source": [
    "l = [(1,2), (4,5), (10, 12), (7,8), (8, 15), (8, 13), (4,11), (1,7), (4,7) ]"
   ]
  },
  {
   "cell_type": "code",
   "execution_count": 60,
   "metadata": {},
   "outputs": [
    {
     "name": "stdout",
     "output_type": "stream",
     "text": [
      "[1, 1, 4, 4, 4, 7, 8, 8, 10]\n",
      "Event (1, 2)\n",
      "Number of overlapping sessions with current session 2\n",
      "Event (4, 5)\n",
      "Number of overlapping sessions with current session 3\n",
      "Event (10, 12)\n",
      "Number of overlapping sessions with current session 1\n",
      "Event (7, 8)\n",
      "Number of overlapping sessions with current session 3\n",
      "Event (8, 15)\n",
      "Number of overlapping sessions with current session 3\n",
      "Event (8, 13)\n",
      "Number of overlapping sessions with current session 3\n",
      "Event (4, 11)\n",
      "Number of overlapping sessions with current session 7\n",
      "Event (1, 7)\n",
      "Number of overlapping sessions with current session 6\n",
      "Event (4, 7)\n",
      "Number of overlapping sessions with current session 4\n"
     ]
    },
    {
     "data": {
      "text/plain": [
       "7"
      ]
     },
     "execution_count": 60,
     "metadata": {},
     "output_type": "execute_result"
    }
   ],
   "source": [
    "find_max_simultaneous_events(l)"
   ]
  },
  {
   "cell_type": "code",
   "execution_count": null,
   "metadata": {},
   "outputs": [],
   "source": []
  }
 ],
 "metadata": {
  "kernelspec": {
   "display_name": "Python 3",
   "language": "python",
   "name": "python3"
  },
  "language_info": {
   "codemirror_mode": {
    "name": "ipython",
    "version": 3
   },
   "file_extension": ".py",
   "mimetype": "text/x-python",
   "name": "python",
   "nbconvert_exporter": "python",
   "pygments_lexer": "ipython3",
   "version": "3.7.4"
  }
 },
 "nbformat": 4,
 "nbformat_minor": 2
}
