{
 "cells": [
  {
   "cell_type": "code",
   "execution_count": 11,
   "metadata": {},
   "outputs": [],
   "source": [
    "def search_first_of_k(A, k):\n",
    "    # TODO - you fill in here.\n",
    "    lo, hi, result = 0, len(A)-1, -1\n",
    "    \n",
    "    while lo <= hi:\n",
    "        mid = (lo +hi) //2\n",
    "        if A[mid] < k:\n",
    "            lo = mid +1\n",
    "        elif A[mid] > k:\n",
    "            hi = mid -1\n",
    "        else:\n",
    "            result = mid\n",
    "            hi = mid -1\n",
    "\n",
    "    return result"
   ]
  },
  {
   "cell_type": "code",
   "execution_count": 19,
   "metadata": {},
   "outputs": [],
   "source": [
    "def search_last_of_k(A, k):\n",
    "    # TODO - you fill in here.\n",
    "    lo, hi, result = 0, len(A)-1, -1\n",
    "    \n",
    "    while lo <= hi:\n",
    "        mid = (lo +hi) //2\n",
    "        if A[mid] < k:\n",
    "            lo = mid +1\n",
    "        elif A[mid] > k:\n",
    "            hi = mid -1\n",
    "        else:\n",
    "            result = mid\n",
    "            lo = mid +1\n",
    "\n",
    "    return result"
   ]
  },
  {
   "cell_type": "code",
   "execution_count": 12,
   "metadata": {},
   "outputs": [],
   "source": [
    "A=[-14,-10,2,108,108,243,285,285]"
   ]
  },
  {
   "cell_type": "code",
   "execution_count": 20,
   "metadata": {},
   "outputs": [
    {
     "data": {
      "text/plain": [
       "4"
      ]
     },
     "execution_count": 20,
     "metadata": {},
     "output_type": "execute_result"
    }
   ],
   "source": [
    "search_last_of_k(A,108)"
   ]
  },
  {
   "cell_type": "code",
   "execution_count": 14,
   "metadata": {},
   "outputs": [
    {
     "data": {
      "text/plain": [
       "3"
      ]
     },
     "execution_count": 14,
     "metadata": {},
     "output_type": "execute_result"
    }
   ],
   "source": [
    "search_first_of_k(A, 108)"
   ]
  },
  {
   "cell_type": "code",
   "execution_count": 18,
   "metadata": {},
   "outputs": [
    {
     "data": {
      "text/plain": [
       "0"
      ]
     },
     "execution_count": 18,
     "metadata": {},
     "output_type": "execute_result"
    }
   ],
   "source": [
    "search_first_of_k([108,108], 108)"
   ]
  },
  {
   "cell_type": "code",
   "execution_count": 21,
   "metadata": {},
   "outputs": [],
   "source": [
    "def search_first_greater(A, k):\n",
    "    # TODO - you fill in here.\n",
    "    lo, hi, result = 0, len(A)-1, -1\n",
    "    \n",
    "    while lo <= hi:\n",
    "        mid = (lo +hi) //2\n",
    "        if A[mid] <= k:\n",
    "            lo = mid +1\n",
    "        else:\n",
    "            result = mid\n",
    "            hi = mid -1\n",
    "\n",
    "    return result"
   ]
  },
  {
   "cell_type": "code",
   "execution_count": 26,
   "metadata": {},
   "outputs": [
    {
     "data": {
      "text/plain": [
       "-1"
      ]
     },
     "execution_count": 26,
     "metadata": {},
     "output_type": "execute_result"
    }
   ],
   "source": [
    "search_first_greater(A, 285)"
   ]
  },
  {
   "cell_type": "code",
   "execution_count": 28,
   "metadata": {},
   "outputs": [],
   "source": [
    "def search_entry_equal_to_its_index(A):\n",
    "    # TODO - you fill in here.\n",
    "    lo, hi, result = 0, len(A)-1, -1\n",
    "\n",
    "    while lo <= hi:\n",
    "        mid = (lo + hi) // 2\n",
    "        if A[mid] < mid:\n",
    "            lo = mid +1\n",
    "        elif A[mid] == mid:\n",
    "            return mid\n",
    "        else:\n",
    "            hi = mid - 1\n",
    "\n",
    "    return result"
   ]
  },
  {
   "cell_type": "code",
   "execution_count": 34,
   "metadata": {},
   "outputs": [
    {
     "data": {
      "text/plain": [
       "-1"
      ]
     },
     "execution_count": 34,
     "metadata": {},
     "output_type": "execute_result"
    }
   ],
   "source": [
    "search_entry_equal_to_its_index([-1,2,2,2])"
   ]
  },
  {
   "cell_type": "code",
   "execution_count": null,
   "metadata": {},
   "outputs": [],
   "source": []
  }
 ],
 "metadata": {
  "kernelspec": {
   "display_name": "Python 3",
   "language": "python",
   "name": "python3"
  },
  "language_info": {
   "codemirror_mode": {
    "name": "ipython",
    "version": 3
   },
   "file_extension": ".py",
   "mimetype": "text/x-python",
   "name": "python",
   "nbconvert_exporter": "python",
   "pygments_lexer": "ipython3",
   "version": "3.7.4"
  }
 },
 "nbformat": 4,
 "nbformat_minor": 2
}
