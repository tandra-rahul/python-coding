{
 "cells": [
  {
   "cell_type": "code",
   "execution_count": 1,
   "metadata": {},
   "outputs": [],
   "source": [
    "def add_one(X):\n",
    "    Y = X[::-1]\n",
    "    \n",
    "    # adding one to LSB\n",
    "    N = Y[0] + 1\n",
    "    carry = int(N/10)\n",
    "    Y[0] = N % 10\n",
    "    \n",
    "    for i in range(1, len(Y)):\n",
    "        N = Y[i] + carry\n",
    "        carry = int(N/10)\n",
    "        Y[i] = N % 10\n",
    "    \n",
    "    if carry != 0:\n",
    "        Y.append(carry)\n",
    "    \n",
    "    return Y[::-1]"
   ]
  },
  {
   "cell_type": "code",
   "execution_count": 154,
   "metadata": {},
   "outputs": [],
   "source": [
    "import time\n",
    "import random\n",
    "import math"
   ]
  },
  {
   "cell_type": "code",
   "execution_count": 2,
   "metadata": {},
   "outputs": [
    {
     "data": {
      "text/plain": [
       "[1, 3, 0]"
      ]
     },
     "execution_count": 2,
     "metadata": {},
     "output_type": "execute_result"
    }
   ],
   "source": [
    "add_one([1,2,9])"
   ]
  },
  {
   "cell_type": "code",
   "execution_count": 3,
   "metadata": {},
   "outputs": [
    {
     "data": {
      "text/plain": [
       "[1, 0, 0, 0]"
      ]
     },
     "execution_count": 3,
     "metadata": {},
     "output_type": "execute_result"
    }
   ],
   "source": [
    "add_one([9,9,9])"
   ]
  },
  {
   "cell_type": "code",
   "execution_count": 7,
   "metadata": {},
   "outputs": [],
   "source": [
    "def add_one_v2(X):\n",
    "    # without reversing\n",
    "    \n",
    "    # Add one to LSB\n",
    "    N = X[-1] + 1\n",
    "    carry = int(N/10)\n",
    "    X[-1] = N % 10\n",
    "    \n",
    "    for i in range(len(X)-2,-1,-1):\n",
    "        N = X[i] + carry\n",
    "        carry = int(N/10)\n",
    "        X[i] = N % 10\n",
    "    \n",
    "    if carry != 0:\n",
    "        X.insert(0,carry)\n",
    "    \n",
    "    return X"
   ]
  },
  {
   "cell_type": "code",
   "execution_count": 11,
   "metadata": {},
   "outputs": [
    {
     "data": {
      "text/plain": [
       "[0, 1, 0]"
      ]
     },
     "execution_count": 11,
     "metadata": {},
     "output_type": "execute_result"
    }
   ],
   "source": [
    "add_one_v2([0,0,9])"
   ]
  },
  {
   "cell_type": "code",
   "execution_count": 65,
   "metadata": {},
   "outputs": [],
   "source": [
    "def mult_digit(A,d):\n",
    "    # Assume both positive\n",
    "    M = [0]*(len(A))\n",
    "    carry = 0\n",
    "    for i in reversed(range(0, len(A))):\n",
    "        N = A[i] *d + carry\n",
    "        carry = int(N/10)\n",
    "        M[i]  = N % 10\n",
    "    \n",
    "    if carry != 0:\n",
    "        M.insert(0, carry)\n",
    "    \n",
    "    return M"
   ]
  },
  {
   "cell_type": "code",
   "execution_count": 66,
   "metadata": {},
   "outputs": [
    {
     "data": {
      "text/plain": [
       "[1, 1, 6, 1]"
      ]
     },
     "execution_count": 66,
     "metadata": {},
     "output_type": "execute_result"
    }
   ],
   "source": [
    "mult_digit([1,2,9],9)"
   ]
  },
  {
   "cell_type": "code",
   "execution_count": 67,
   "metadata": {},
   "outputs": [],
   "source": [
    "def add_lists(A1, A2):\n",
    "    \n",
    "    if len(A1) < len(A2):\n",
    "        A1 = [0]*(len(A2) - len(A1)) + A1\n",
    "    \n",
    "    if len(A1) > len(A2):\n",
    "        A2 = [0]*(len(A1) - len(A2)) + A2\n",
    "    \n",
    "    L = len(A1)\n",
    "    S = [None]*L\n",
    "    carry = 0\n",
    "    \n",
    "    for i in reversed(range(0, L)):\n",
    "        N = A1[i] + A2[i] + carry\n",
    "        S[i] = N % 10\n",
    "        carry = int(N/10)\n",
    "    \n",
    "    if carry != 0:\n",
    "        S.insert(0, carry)\n",
    "    \n",
    "    return S\n",
    "            "
   ]
  },
  {
   "cell_type": "code",
   "execution_count": 68,
   "metadata": {},
   "outputs": [
    {
     "data": {
      "text/plain": [
       "[1, 0, 1, 0, 9]"
      ]
     },
     "execution_count": 68,
     "metadata": {},
     "output_type": "execute_result"
    }
   ],
   "source": [
    "add_lists([9,9,9,4],[0,0,1,1,5])"
   ]
  },
  {
   "cell_type": "code",
   "execution_count": 85,
   "metadata": {},
   "outputs": [],
   "source": [
    "def mult_lists(A1,A2):\n",
    "    \n",
    "    if (A1 == [0]) or (A2 == [0]):\n",
    "        return [0]\n",
    "\n",
    "    # Take care of the sign\n",
    "    si = int(A1[0]*A2[0]/(abs(A1[0])*abs(A2[0])))\n",
    "    \n",
    "    A1[0] = abs(A1[0])\n",
    "    A2[0] = abs(A2[0])\n",
    "     \n",
    "    #M = [0]*(len(A1)*len(A2))\n",
    "    \n",
    "    for i in reversed(range(0, len(A1))):\n",
    "        N = mult_digit(A2, A1[i])\n",
    "        N += [0]*(len(A1) - i -1)\n",
    "        if i == len(A1) -1:\n",
    "            M = N\n",
    "        else:\n",
    "            M = add_lists(M, N)\n",
    "            \n",
    "    M[0] = si*M[0]\n",
    "    return M"
   ]
  },
  {
   "cell_type": "code",
   "execution_count": 86,
   "metadata": {},
   "outputs": [
    {
     "data": {
      "text/plain": [
       "[0]"
      ]
     },
     "execution_count": 86,
     "metadata": {},
     "output_type": "execute_result"
    }
   ],
   "source": [
    "mult_lists([0], [-1,2,9])"
   ]
  },
  {
   "cell_type": "code",
   "execution_count": 55,
   "metadata": {},
   "outputs": [
    {
     "data": {
      "text/plain": [
       "[0, 0, 0, 6, 4, 5]"
      ]
     },
     "execution_count": 55,
     "metadata": {},
     "output_type": "execute_result"
    }
   ],
   "source": [
    "add_lists([0, 0, 0, 0, 0, 0],[6,4,5])"
   ]
  },
  {
   "cell_type": "code",
   "execution_count": 91,
   "metadata": {},
   "outputs": [],
   "source": [
    "def find_sign(a,b):\n",
    "    sign = -1 if (a > 0) ^ (b >0) else 1\n",
    "    return sign"
   ]
  },
  {
   "cell_type": "code",
   "execution_count": 95,
   "metadata": {},
   "outputs": [
    {
     "data": {
      "text/plain": [
       "1"
      ]
     },
     "execution_count": 95,
     "metadata": {},
     "output_type": "execute_result"
    }
   ],
   "source": [
    "find_sign(-1,-1)"
   ]
  },
  {
   "cell_type": "code",
   "execution_count": 90,
   "metadata": {},
   "outputs": [
    {
     "data": {
      "text/plain": [
       "False"
      ]
     },
     "execution_count": 90,
     "metadata": {},
     "output_type": "execute_result"
    }
   ],
   "source": [
    "(-1 <0) ^ (-1 <0)"
   ]
  },
  {
   "cell_type": "code",
   "execution_count": 104,
   "metadata": {},
   "outputs": [],
   "source": [
    "def detect_dups(A):\n",
    "    # A is sorted list\n",
    "    \n",
    "    i = 1\n",
    "    while i < len(A):\n",
    "        if A[i] == A[i-1]:\n",
    "            del A[i]\n",
    "            continue\n",
    "        i +=1\n",
    "         \n",
    "    return len(A)\n",
    "            "
   ]
  },
  {
   "cell_type": "code",
   "execution_count": 136,
   "metadata": {},
   "outputs": [
    {
     "data": {
      "text/plain": [
       "6"
      ]
     },
     "execution_count": 136,
     "metadata": {},
     "output_type": "execute_result"
    }
   ],
   "source": [
    "detect_dupsv2([1,1,2,3, 4,4,4,5,5,6])"
   ]
  },
  {
   "cell_type": "code",
   "execution_count": 134,
   "metadata": {},
   "outputs": [],
   "source": [
    "def profile():\n",
    "    N = 1000000\n",
    "    A = [None]*N\n",
    "    for i in range(N):\n",
    "        A[i] = random.randint(1,3)\n",
    "    \n",
    "    t = time.time()\n",
    "    detect_dupsv2(A)\n",
    "    s = time.time() - t\n",
    "    print(s)\n",
    "    "
   ]
  },
  {
   "cell_type": "code",
   "execution_count": 135,
   "metadata": {},
   "outputs": [
    {
     "name": "stdout",
     "output_type": "stream",
     "text": [
      "0.132216215133667\n"
     ]
    }
   ],
   "source": [
    "profile()"
   ]
  },
  {
   "cell_type": "code",
   "execution_count": 129,
   "metadata": {},
   "outputs": [],
   "source": [
    "def detect_dupsv2(A):\n",
    "    \n",
    "    write_index=1\n",
    "    for i in range(1,len(A)):\n",
    "        if A[write_index -1] != A[i]:\n",
    "            A[write_index] = A[i]\n",
    "            write_index += 1\n",
    "    return write_index"
   ]
  },
  {
   "cell_type": "code",
   "execution_count": 138,
   "metadata": {},
   "outputs": [],
   "source": [
    "def rearrange(A):\n",
    "    # TODO - you fill in here.\n",
    "    for i in range(0, len(A)-1):\n",
    "\n",
    "        if (i%2) == 0 and (A[i] > A[i+1]):\n",
    "            A[i], A[i+1] = A[i+1], A[i]\n",
    "\n",
    "        if (i%2)!= 0 and (A[i] < A[i+1]):\n",
    "            A[i], A[i+1] = A[i+1], A[i]\n",
    "    return"
   ]
  },
  {
   "cell_type": "code",
   "execution_count": 140,
   "metadata": {},
   "outputs": [],
   "source": [
    "A= [2,2,3]"
   ]
  },
  {
   "cell_type": "code",
   "execution_count": 141,
   "metadata": {},
   "outputs": [],
   "source": [
    "rearrange(A)"
   ]
  },
  {
   "cell_type": "code",
   "execution_count": 142,
   "metadata": {},
   "outputs": [
    {
     "data": {
      "text/plain": [
       "[2, 3, 2]"
      ]
     },
     "execution_count": 142,
     "metadata": {},
     "output_type": "execute_result"
    }
   ],
   "source": [
    "A"
   ]
  },
  {
   "cell_type": "code",
   "execution_count": 174,
   "metadata": {},
   "outputs": [],
   "source": [
    "def enumerate_primes(n):\n",
    "    if n <= 1:\n",
    "        return []\n",
    "    \n",
    "    primes = []\n",
    "    for i in range(2, n+1):\n",
    "        if is_prime(i, primes):\n",
    "            primes.append(i)    \n",
    "    return primes\n",
    "\n",
    "def is_prime(i, primes):\n",
    "    for p in primes:\n",
    "        if (i % p) == 0:\n",
    "            return False\n",
    "    \n",
    "    return True\n",
    "                \n",
    "                "
   ]
  },
  {
   "cell_type": "code",
   "execution_count": 206,
   "metadata": {},
   "outputs": [
    {
     "data": {
      "text/plain": [
       "25"
      ]
     },
     "execution_count": 206,
     "metadata": {},
     "output_type": "execute_result"
    }
   ],
   "source": [
    "len(enumerate_primes(10))"
   ]
  },
  {
   "cell_type": "code",
   "execution_count": 207,
   "metadata": {},
   "outputs": [],
   "source": [
    "def enumerate_primes_seive(n):\n",
    "    A = [True]*(n+1)\n",
    "    primes=[]\n",
    "    \n",
    "    for i in range(2,n+1):\n",
    "        if A[i]:\n",
    "            primes.append(i)\n",
    "            for k in range(1, int(n/i)+1):\n",
    "                A[k*i] = False\n",
    "            \n",
    "    return primes\n",
    "        "
   ]
  },
  {
   "cell_type": "code",
   "execution_count": 208,
   "metadata": {},
   "outputs": [
    {
     "data": {
      "text/plain": [
       "[2, 3, 5, 7, 11, 13, 17, 19, 23, 29]"
      ]
     },
     "execution_count": 208,
     "metadata": {},
     "output_type": "execute_result"
    }
   ],
   "source": [
    "enumerate_primes_seive(30)"
   ]
  },
  {
   "cell_type": "code",
   "execution_count": 211,
   "metadata": {},
   "outputs": [
    {
     "name": "stdout",
     "output_type": "stream",
     "text": [
      "2.045966148376465\n",
      "0.02318716049194336\n"
     ]
    }
   ],
   "source": [
    "N=100000\n",
    "one = time.time()\n",
    "enumerate_primes(N)\n",
    "print(time.time() - one)\n",
    "two = time.time()\n",
    "enumerate_primes_seive(N)\n",
    "print(time.time() - two)"
   ]
  },
  {
   "cell_type": "code",
   "execution_count": 212,
   "metadata": {},
   "outputs": [],
   "source": [
    "def dup_present(A):\n",
    "    X = [False]*9\n",
    "    for i in A:\n",
    "        if i > 0:\n",
    "            if X[i-1]:\n",
    "                return True\n",
    "            else:\n",
    "                X[i-1] = True\n",
    "    \n",
    "    return False"
   ]
  },
  {
   "cell_type": "code",
   "execution_count": 218,
   "metadata": {},
   "outputs": [
    {
     "data": {
      "text/plain": [
       "True"
      ]
     },
     "execution_count": 218,
     "metadata": {},
     "output_type": "execute_result"
    }
   ],
   "source": [
    "dup_present([0,3,0,0,7,0,5,0,3])"
   ]
  },
  {
   "cell_type": "code",
   "execution_count": 220,
   "metadata": {},
   "outputs": [],
   "source": [
    "A=[[1,2],[3,4]]"
   ]
  },
  {
   "cell_type": "code",
   "execution_count": 221,
   "metadata": {},
   "outputs": [
    {
     "data": {
      "text/plain": [
       "[[1, 2], [3, 4]]"
      ]
     },
     "execution_count": 221,
     "metadata": {},
     "output_type": "execute_result"
    }
   ],
   "source": [
    "A"
   ]
  },
  {
   "cell_type": "code",
   "execution_count": 230,
   "metadata": {},
   "outputs": [
    {
     "data": {
      "text/plain": [
       "[3, 4]"
      ]
     },
     "execution_count": 230,
     "metadata": {},
     "output_type": "execute_result"
    }
   ],
   "source": [
    "A[]"
   ]
  },
  {
   "cell_type": "code",
   "execution_count": 231,
   "metadata": {},
   "outputs": [
    {
     "data": {
      "text/plain": [
       "[[1, 2], [3, 4]]"
      ]
     },
     "execution_count": 231,
     "metadata": {},
     "output_type": "execute_result"
    }
   ],
   "source": [
    "A"
   ]
  },
  {
   "cell_type": "code",
   "execution_count": 232,
   "metadata": {},
   "outputs": [],
   "source": [
    "A=[[1,2,3,4],[5,6,7,8],[9,10,11,12],[13,14,15,16]]"
   ]
  },
  {
   "cell_type": "code",
   "execution_count": 233,
   "metadata": {},
   "outputs": [
    {
     "data": {
      "text/plain": [
       "[[1, 2, 3, 4], [5, 6, 7, 8], [9, 10, 11, 12], [13, 14, 15, 16]]"
      ]
     },
     "execution_count": 233,
     "metadata": {},
     "output_type": "execute_result"
    }
   ],
   "source": [
    "A"
   ]
  },
  {
   "cell_type": "code",
   "execution_count": 236,
   "metadata": {},
   "outputs": [
    {
     "data": {
      "text/plain": [
       "[[9, 10, 11, 12]]"
      ]
     },
     "execution_count": 236,
     "metadata": {},
     "output_type": "execute_result"
    }
   ],
   "source": [
    "A[1:3][1:]"
   ]
  },
  {
   "cell_type": "code",
   "execution_count": 268,
   "metadata": {},
   "outputs": [],
   "source": [
    "def spiral_order(A):\n",
    "    \n",
    "    n = len(A)\n",
    "    if n <1:\n",
    "        return []\n",
    "\n",
    "    if n == 1:\n",
    "        return [A[0][0]]\n",
    "    \n",
    "    outer_layer = ([A[0][j] for j in range(0,n)] + \n",
    "                   [A[i][n-1] for i in range(1,n)] + \n",
    "                   [A[n-1][j] for j in reversed(range(0,n-1))]+ \n",
    "                   [A[i][0] for i in reversed(range(1,n-1))])\n",
    "    \n",
    "    return outer_layer + spiral_order([[A[i][j] for j in range(1,n-1)] for i in range(1,n-1)])"
   ]
  },
  {
   "cell_type": "code",
   "execution_count": 270,
   "metadata": {},
   "outputs": [
    {
     "data": {
      "text/plain": [
       "[1, 2, 3, 4, 8, 12, 16, 15, 14, 13, 9, 5, 6, 7, 11, 10]"
      ]
     },
     "execution_count": 270,
     "metadata": {},
     "output_type": "execute_result"
    }
   ],
   "source": [
    "spiral_order(A)"
   ]
  },
  {
   "cell_type": "code",
   "execution_count": 240,
   "metadata": {},
   "outputs": [
    {
     "data": {
      "text/plain": [
       "4"
      ]
     },
     "execution_count": 240,
     "metadata": {},
     "output_type": "execute_result"
    }
   ],
   "source": [
    "len(A)"
   ]
  },
  {
   "cell_type": "code",
   "execution_count": 243,
   "metadata": {},
   "outputs": [
    {
     "data": {
      "text/plain": [
       "[1, 2, 3, 4, 8, 12, 16]"
      ]
     },
     "execution_count": 243,
     "metadata": {},
     "output_type": "execute_result"
    }
   ],
   "source": [
    "n=4\n",
    "[A[0][j] for j in range(0,n)] + [A[i][n-1] for i in range(1,n)]\n"
   ]
  },
  {
   "cell_type": "code",
   "execution_count": 244,
   "metadata": {},
   "outputs": [
    {
     "data": {
      "text/plain": [
       "8"
      ]
     },
     "execution_count": 244,
     "metadata": {},
     "output_type": "execute_result"
    }
   ],
   "source": [
    "A[1][3]"
   ]
  },
  {
   "cell_type": "code",
   "execution_count": 250,
   "metadata": {},
   "outputs": [
    {
     "data": {
      "text/plain": [
       "[[6, 7], [10, 11]]"
      ]
     },
     "execution_count": 250,
     "metadata": {},
     "output_type": "execute_result"
    }
   ],
   "source": [
    "[[A[i][j] for j in range(1,n-1)] for i in range(1,n-1)]"
   ]
  },
  {
   "cell_type": "code",
   "execution_count": 262,
   "metadata": {},
   "outputs": [
    {
     "data": {
      "text/plain": [
       "[[1, 2, 3, 4], [5, 6, 7, 8], [9, 10, 11, 12], [13, 14, 15, 16]]"
      ]
     },
     "execution_count": 262,
     "metadata": {},
     "output_type": "execute_result"
    }
   ],
   "source": [
    "A"
   ]
  },
  {
   "cell_type": "code",
   "execution_count": 264,
   "metadata": {},
   "outputs": [
    {
     "data": {
      "text/plain": [
       "[[1, 2, 3, 4], [5, 6, 7, 8], [9, 10, 11, 12], [13, 14, 15, 16]]"
      ]
     },
     "execution_count": 264,
     "metadata": {},
     "output_type": "execute_result"
    }
   ],
   "source": [
    "A[:][:]"
   ]
  },
  {
   "cell_type": "code",
   "execution_count": 265,
   "metadata": {},
   "outputs": [
    {
     "data": {
      "text/plain": [
       "[[1, 2, 3, 4], [5, 6, 7, 8], [9, 10, 11, 12], [13, 14, 15, 16]]"
      ]
     },
     "execution_count": 265,
     "metadata": {},
     "output_type": "execute_result"
    }
   ],
   "source": [
    "A[:]"
   ]
  },
  {
   "cell_type": "code",
   "execution_count": 266,
   "metadata": {},
   "outputs": [],
   "source": [
    "B = [[4, 2], [3, 1]]"
   ]
  },
  {
   "cell_type": "code",
   "execution_count": 269,
   "metadata": {},
   "outputs": [
    {
     "data": {
      "text/plain": [
       "[4, 2, 1, 3]"
      ]
     },
     "execution_count": 269,
     "metadata": {},
     "output_type": "execute_result"
    }
   ],
   "source": [
    "spiral_order(B)"
   ]
  },
  {
   "cell_type": "code",
   "execution_count": 299,
   "metadata": {},
   "outputs": [],
   "source": [
    "import copy\n",
    "def rotate_matrix(square_matrix):\n",
    "    # TODO - you fill in here.\n",
    "    n = len(square_matrix)\n",
    "    B= copy.deepcopy(square_matrix)\n",
    "    \n",
    "    for i in range(0, n):\n",
    "        for j in range(0, n):\n",
    "            B[j][n-i-1]  = square_matrix[i][j]\n",
    "    \n",
    "    \n",
    "    for i in range(0, n):\n",
    "        for j in range(0, n):\n",
    "            square_matrix[i][j] = B[i][j]\n",
    "    return"
   ]
  },
  {
   "cell_type": "code",
   "execution_count": 300,
   "metadata": {},
   "outputs": [],
   "source": [
    "X=[[1,2],[3,4]]\n",
    "rotate_matrix(X)"
   ]
  },
  {
   "cell_type": "code",
   "execution_count": 301,
   "metadata": {},
   "outputs": [
    {
     "data": {
      "text/plain": [
       "[[3, 1], [4, 2]]"
      ]
     },
     "execution_count": 301,
     "metadata": {},
     "output_type": "execute_result"
    }
   ],
   "source": [
    "X"
   ]
  },
  {
   "cell_type": "code",
   "execution_count": null,
   "metadata": {},
   "outputs": [],
   "source": []
  }
 ],
 "metadata": {
  "kernelspec": {
   "display_name": "Python 3",
   "language": "python",
   "name": "python3"
  },
  "language_info": {
   "codemirror_mode": {
    "name": "ipython",
    "version": 3
   },
   "file_extension": ".py",
   "mimetype": "text/x-python",
   "name": "python",
   "nbconvert_exporter": "python",
   "pygments_lexer": "ipython3",
   "version": "3.7.4"
  }
 },
 "nbformat": 4,
 "nbformat_minor": 2
}
